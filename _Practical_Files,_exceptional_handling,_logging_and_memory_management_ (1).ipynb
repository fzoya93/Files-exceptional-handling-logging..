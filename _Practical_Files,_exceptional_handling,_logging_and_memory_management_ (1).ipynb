{
 "cells": [
  {
   "cell_type": "code",
   "execution_count": null,
   "id": "394c7e8e-725b-46c9-ac58-0621b784b7ab",
   "metadata": {
    "id": "394c7e8e-725b-46c9-ac58-0621b784b7ab"
   },
   "outputs": [],
   "source": [
    "          #Practical Questions..."
   ]
  },
  {
   "cell_type": "code",
   "execution_count": 35,
   "id": "1e067876-9e54-4698-9ad8-c4751600c9b2",
   "metadata": {
    "colab": {
     "base_uri": "https://localhost:8080/"
    },
    "id": "1e067876-9e54-4698-9ad8-c4751600c9b2",
    "outputId": "f6c421b0-5b67-4da0-b55a-3e302787e312"
   },
   "outputs": [
    {
     "name": "stdout",
     "output_type": "stream",
     "text": [
      "Hello, World!\n"
     ]
    }
   ],
   "source": [
    "# 1)   How can you open a file for writing in Python and write a string to it?\n",
    "\n",
    "  #1)\n",
    "\n",
    "with open(\"file.txt\", \"w\") as f:\n",
    "  f.write(\"Hello, World!\")\n",
    "with open(\"file.txt\", \"r\") as f:\n",
    "  line=f.read()\n",
    "  print(line)\n",
    "\n"
   ]
  },
  {
   "cell_type": "code",
   "execution_count": null,
   "id": "aeefeac3-38da-490d-a273-75be9bcaf767",
   "metadata": {
    "id": "aeefeac3-38da-490d-a273-75be9bcaf767",
    "outputId": "ab6977a1-1fe0-4d03-c3ee-a4664895b520"
   },
   "outputs": [
    {
     "name": "stdout",
     "output_type": "stream",
     "text": [
      "Hello, this is a test string.\n"
     ]
    }
   ],
   "source": [
    " # 2)  Write a Python program to read the contents of a file and print each line?\n",
    "#2)\n",
    "\n",
    "with open(\"example.txt\", \"r\") as file:\n",
    "    for line in file:\n",
    "        print(line.strip())\n"
   ]
  },
  {
   "cell_type": "code",
   "execution_count": null,
   "id": "d54cb397-35a2-4118-a0bb-ccf0cf06c77d",
   "metadata": {
    "id": "d54cb397-35a2-4118-a0bb-ccf0cf06c77d",
    "outputId": "c04b3c86-a165-4eba-a260-91a7d9f26e1d"
   },
   "outputs": [
    {
     "name": "stdout",
     "output_type": "stream",
     "text": [
      "Hello, this is a test string.\n"
     ]
    }
   ],
   "source": [
    " # 3)  How would you handle a case where the file doesn't exist while trying to open it for reading?\n",
    "#3)\n",
    "filename = \"example.txt\"\n",
    "\n",
    "try:\n",
    "    with open(filename, 'r') as file:\n",
    "        content = file.read()\n",
    "        print(content)\n",
    "except FileNotFoundError:\n",
    "    print(f\"Error: The file '{filename}' does not exist.\")\n"
   ]
  },
  {
   "cell_type": "code",
   "execution_count": null,
   "id": "678896f0-4352-478c-b778-91e7c7892994",
   "metadata": {
    "id": "678896f0-4352-478c-b778-91e7c7892994",
    "outputId": "e2a09453-a3f1-4200-e133-20ddafff8b9e"
   },
   "outputs": [
    {
     "name": "stdout",
     "output_type": "stream",
     "text": [
      "Error: The file 'source.txt' does not exist.\n"
     ]
    }
   ],
   "source": [
    " # 4) Write a Python script that reads from one file and writes its content to another file.\n",
    "\n",
    "#4)\n",
    "\n",
    "input_file = 'source.txt'\n",
    "output_file = 'destination.txt'\n",
    "\n",
    "try:\n",
    "\n",
    "    with open(input_file, 'r') as src, open(output_file, 'w') as dest:\n",
    "        for line in src:\n",
    "            dest.write(line)\n",
    "    print(f\"Contents copied from '{input_file}' to '{output_file}' successfully.\")\n",
    "except FileNotFoundError:\n",
    "    print(f\"Error: The file '{input_file}' does not exist.\")\n",
    "except Exception as e:\n",
    "    print(f\"An error occurred: {e}\")\n"
   ]
  },
  {
   "cell_type": "code",
   "execution_count": null,
   "id": "da00e177-1a5c-47a9-87c2-319ae8363469",
   "metadata": {
    "id": "da00e177-1a5c-47a9-87c2-319ae8363469",
    "outputId": "1656bc50-ab8c-4117-914c-e1fea64eb281"
   },
   "outputs": [
    {
     "name": "stdout",
     "output_type": "stream",
     "text": [
      "Error: Cannot divide by zero.\n"
     ]
    }
   ],
   "source": [
    " # 5)  How would you catch and handle division by zero error in Python?\n",
    "\n",
    "#5\n",
    "try:\n",
    "    numerator = 10\n",
    "    denominator = 0\n",
    "    result = numerator / denominator\n",
    "    print(\"Result:\", result)\n",
    "except ZeroDivisionError:\n",
    "    print(\"Error: Cannot divide by zero.\")\n"
   ]
  },
  {
   "cell_type": "code",
   "execution_count": null,
   "id": "a2e63f6a-d334-4bb9-abdd-77979df0481b",
   "metadata": {
    "id": "a2e63f6a-d334-4bb9-abdd-77979df0481b",
    "outputId": "a3082087-11af-4146-a8e7-e67ce2bef7ea"
   },
   "outputs": [
    {
     "name": "stdout",
     "output_type": "stream",
     "text": [
      "An error occurred. Check the log file for details.\n"
     ]
    }
   ],
   "source": [
    "  # 6)  Write a Python program that logs an error message to a log file when a division by zero exception occur?\n",
    "\n",
    "#6\n",
    "import logging\n",
    "\n",
    "try:\n",
    "    numerator = 10\n",
    "    denominator = 0\n",
    "    result = numerator / denominator\n",
    "except ZeroDivisionError as e:\n",
    "    logging.error(\"Attempted to divide by zero: %s\", e)\n",
    "    print(\"An error occurred. Check the log file for details.\")\n"
   ]
  },
  {
   "cell_type": "code",
   "execution_count": null,
   "id": "13b8c480-11c0-4732-a791-7f832ae55f50",
   "metadata": {
    "id": "13b8c480-11c0-4732-a791-7f832ae55f50",
    "outputId": "5f1772b1-6d9b-4c72-e4d8-0d7de2d1ac63"
   },
   "outputs": [
    {
     "name": "stdout",
     "output_type": "stream",
     "text": [
      "Logs have been written to 'log_output.txt'\n"
     ]
    }
   ],
   "source": [
    "   # 7)  How do you log information at different levels (INFO, ERROR, WARNING) in Python using the logging module?\n",
    "\n",
    "#7\n",
    "import logging\n",
    "\n",
    "logging.basicConfig(\n",
    "    level=logging.DEBUG,\n",
    "    format='%(asctime)s - %(levelname)s - %(message)s',\n",
    "    filename='log_output.txt',\n",
    "    filemode='w'\n",
    "\n",
    "logging.debug(\"This is a DEBUG message.\")\n",
    "logging.info(\"This is an INFO message.\")\n",
    "logging.warning(\"This is a WARNING message.\")\n",
    "logging.error(\"This is an ERROR message.\")\n",
    "logging.critical(\"This is a CRITICAL message.\")\n",
    "\n",
    "print(\"Logs have been written to 'log_output.txt'\")\n",
    "\n"
   ]
  },
  {
   "cell_type": "code",
   "execution_count": null,
   "id": "3c5538af-a3a8-49e9-882c-05c18956dd88",
   "metadata": {
    "id": "3c5538af-a3a8-49e9-882c-05c18956dd88",
    "outputId": "ef16b9ae-e47d-448e-c0e0-2a7043725248"
   },
   "outputs": [
    {
     "name": "stdout",
     "output_type": "stream",
     "text": [
      "Hello, world!This is new data being appended.\n",
      "Appended using a+ mode.\n",
      "\n"
     ]
    }
   ],
   "source": [
    "  # 8)  Write a program to handle a file opening error using exception handling?\n",
    "\n",
    "#8\n",
    "try:\n",
    "\n",
    "    file = open(\"myfile.txt\", \"r\")\n",
    "    content = file.read()\n",
    "    print(content)\n",
    "    file.close()\n",
    "except FileNotFoundError:\n",
    "    print(\"Error: The file 'myfile.txt' was not found.\")\n"
   ]
  },
  {
   "cell_type": "code",
   "execution_count": null,
   "id": "4c22b592-9f72-49bf-82bf-3fddd70b0a89",
   "metadata": {
    "id": "4c22b592-9f72-49bf-82bf-3fddd70b0a89",
    "outputId": "89562219-2e36-4016-abb3-5b7711974096"
   },
   "outputs": [
    {
     "name": "stdout",
     "output_type": "stream",
     "text": [
      "['Hello, world!']\n"
     ]
    }
   ],
   "source": [
    "  # 9)  How can you read a file line by line and store its content in a list in Python?\n",
    "\n",
    "#9\n",
    "with open(\"myfile.txt\", \"r\") as file:\n",
    "    lines = file.readlines()\n",
    "\n",
    "print(lines)\n",
    "\n"
   ]
  },
  {
   "cell_type": "code",
   "execution_count": null,
   "id": "001821a3-1c76-49bc-a8dc-15fe32c10ead",
   "metadata": {
    "id": "001821a3-1c76-49bc-a8dc-15fe32c10ead",
    "outputId": "714333e6-4ae0-4350-9f50-f408beb7a5b9"
   },
   "outputs": [
    {
     "name": "stdout",
     "output_type": "stream",
     "text": [
      "Updated File Content:\n",
      " Hello, world!This is new data being appended.\n",
      "Appended using a+ mode.\n",
      "\n"
     ]
    }
   ],
   "source": [
    "   # 10) How can you append data to an existing file in Python?\n",
    "\n",
    "#10\n",
    "with open(\"myfile.txt\", \"a+\") as file:\n",
    "    file.write(\"Appended using a+ mode.\\n\")\n",
    "    file.seek(0)\n",
    "    content = file.read()\n",
    "    print(\"Updated File Content:\\n\", content)\n",
    "\n"
   ]
  },
  {
   "cell_type": "code",
   "execution_count": null,
   "id": "03b01670-6035-41af-baf7-3141eb1cdda6",
   "metadata": {
    "id": "03b01670-6035-41af-baf7-3141eb1cdda6",
    "outputId": "5163bacc-4514-4157-8e85-999a0550519d"
   },
   "outputs": [
    {
     "name": "stdout",
     "output_type": "stream",
     "text": [
      "Key is not found 'fee'\n"
     ]
    }
   ],
   "source": [
    "  # 11) Write a Python program that uses a try-except block to handle an error when attempting to access a\n",
    "#dictionary key that doesn't exist.\n",
    "\n",
    "#11)\n",
    "try:\n",
    "    data = {\"name\": \"Zoya\", \"Course\": \"DS\", \"age\": 21}\n",
    "    data[\"fee\"]\n",
    "except KeyError as e:\n",
    "    print(\"Key is not found\", e)\n",
    "\n"
   ]
  },
  {
   "cell_type": "code",
   "execution_count": null,
   "id": "10448cd2-90fe-4850-aecf-2a44e3e48005",
   "metadata": {
    "id": "10448cd2-90fe-4850-aecf-2a44e3e48005",
    "outputId": "a49e2ec4-b0df-4be5-baed-c147ccd5675b"
   },
   "outputs": [
    {
     "name": "stdout",
     "output_type": "stream",
     "text": [
      "The division is not possible  unsupported operand type(s) for /: 'int' and 'str'\n"
     ]
    }
   ],
   "source": [
    " # 12) Write a program that demonstrate using multiple except block to handle diiferent types of exceptions.\n",
    "\n",
    "#12\n",
    "try:\n",
    "    10/\"a\"\n",
    "except TypeError as e:\n",
    "    print(\"The division is not possible \",e)\n",
    "except Exception as e:\n",
    "    print(\"The error is\", e)\n"
   ]
  },
  {
   "cell_type": "code",
   "execution_count": null,
   "id": "90cb40b3-508d-4406-b820-29fd81169cb5",
   "metadata": {
    "id": "90cb40b3-508d-4406-b820-29fd81169cb5",
    "outputId": "7749ae67-be3d-4732-8725-be7a1166cea5"
   },
   "outputs": [
    {
     "name": "stdout",
     "output_type": "stream",
     "text": [
      "Error: [Errno 2] No such file or directory: 'new.txt'\n"
     ]
    }
   ],
   "source": [
    " # 13) How would you check if a file exists before attempting to read it in Python?\n",
    "\n",
    "#13\n",
    "try:\n",
    "    file = open(\"new.txt\", \"r\")\n",
    "    line = file.read()\n",
    "    file.closed()\n",
    "except FileNotFoundError as e:\n",
    "    print(\"Error:\",e)"
   ]
  },
  {
   "cell_type": "code",
   "execution_count": null,
   "id": "b177d365-e619-41da-a185-46d5aaff0861",
   "metadata": {
    "id": "b177d365-e619-41da-a185-46d5aaff0861",
    "outputId": "89aeff62-9d8f-4f21-9613-ef24980e521b"
   },
   "outputs": [
    {
     "name": "stderr",
     "output_type": "stream",
     "text": [
      "INFO: Division successful: 10 / 2 = 5.0\n",
      "ERROR: Error: Cannot divide by zero.\n"
     ]
    }
   ],
   "source": [
    "   # 14) Write a program that uses the logging module to log both informational and error messages.\n",
    "\n",
    "#14)\n",
    "import logging\n",
    "\n",
    "logging.basicConfig(level=logging.INFO, format='%(levelname)s: %(message)s')\n",
    "\n",
    "def divide(a, b):\n",
    "    try:\n",
    "        result = a / b\n",
    "        logging.info(f\"Division successful: {a} / {b} = {result}\")\n",
    "    except ZeroDivisionError as e:\n",
    "        logging.error(\"Error: Cannot divide by zero.\")\n",
    "\n",
    "divide(10, 2)\n",
    "divide(5, 0)\n"
   ]
  },
  {
   "cell_type": "code",
   "execution_count": null,
   "id": "59966bc4-7c48-4c13-9c53-e05b13dfb997",
   "metadata": {
    "id": "59966bc4-7c48-4c13-9c53-e05b13dfb997",
    "outputId": "b2af2648-945c-4b27-a2f5-672dc98b88c6"
   },
   "outputs": [
    {
     "name": "stdout",
     "output_type": "stream",
     "text": [
      "File not found.\n"
     ]
    }
   ],
   "source": [
    "  # 15) Write a Python program that prints the content of a file and handles the case when the file is empty.\n",
    "\n",
    "#15\n",
    "\n",
    "filename = \"sample.txt\"\n",
    "\n",
    "try:\n",
    "    with open(filename, 'r') as file:\n",
    "        content = file.read()\n",
    "        if content:\n",
    "            print(content)\n",
    "        else:\n",
    "            print(\"The file is empty.\")\n",
    "except FileNotFoundError:\n",
    "    print(\"File not found.\")\n"
   ]
  },
  {
   "cell_type": "code",
   "execution_count": null,
   "id": "0oWjIJWb1jK2",
   "metadata": {
    "colab": {
     "base_uri": "https://localhost:8080/"
    },
    "id": "0oWjIJWb1jK2",
    "outputId": "d6243a9d-7cca-46ad-fd07-dee21fc4db36"
   },
   "outputs": [
    {
     "name": "stdout",
     "output_type": "stream",
     "text": [
      "1\n",
      "2\n",
      "3\n",
      "4\n",
      "5\n",
      "\n"
     ]
    }
   ],
   "source": [
    " #17) Write a python program to create a list of numbers to a file, one number per line.\n",
    "\n",
    " #17\n",
    "\n",
    "l = [1, 2, 3, 4, 5]\n",
    "with open(\"list_num.txt\", \"w\")as f:\n",
    "  for i in l:\n",
    "    f.write(f\"{i}\\n\")\n",
    "\n",
    "with open(\"list_num.txt\", \"r\")as f:\n",
    "  print(f.read())\n",
    "\n",
    "\n"
   ]
  },
  {
   "cell_type": "code",
   "execution_count": null,
   "id": "b1fdf9af-6ff8-42ed-a6f3-d9ed98e231e7",
   "metadata": {
    "colab": {
     "base_uri": "https://localhost:8080/"
    },
    "id": "b1fdf9af-6ff8-42ed-a6f3-d9ed98e231e7",
    "outputId": "22c1444a-4a9e-4470-8573-cb1d3c1be846"
   },
   "outputs": [
    {
     "name": "stderr",
     "output_type": "stream",
     "text": [
      "INFO:root:Logging system started.\n",
      "WARNING:root:This is a warning.\n",
      "ERROR:root:This is an error message.\n"
     ]
    }
   ],
   "source": [
    "   # 18)  How would you implement a basic logging setup that logs to a file with rotation after 1MB?\n",
    "\n",
    "# 18)\n",
    "import logging\n",
    "from logging.handlers import RotatingFileHandler\n",
    "\n",
    "log_handler = RotatingFileHandler(\n",
    "    'my_log.log', maxBytes=1_000_000, backupCount=3\n",
    ")\n",
    "\n",
    "formatter = logging.Formatter('%(asctime)s - %(levelname)s - %(message)s')\n",
    "log_handler.setFormatter(formatter)\n",
    "\n",
    "logger = logging.getLogger()\n",
    "logger.setLevel(logging.INFO)\n",
    "logger.addHandler(log_handler)\n",
    "\n",
    "logger.info(\"Logging system started.\")\n",
    "logger.warning(\"This is a warning.\")\n",
    "logger.error(\"This is an error message.\")\n",
    "\n",
    "\n",
    "\n",
    "\n"
   ]
  },
  {
   "cell_type": "code",
   "execution_count": null,
   "id": "23f18459-b9c6-44a7-9334-9971ec04972b",
   "metadata": {
    "id": "23f18459-b9c6-44a7-9334-9971ec04972b",
    "outputId": "2e9828e6-455e-4e01-e264-904f7af49d1a"
   },
   "outputs": [
    {
     "name": "stdout",
     "output_type": "stream",
     "text": [
      "IndexError: List index out of range.\n"
     ]
    }
   ],
   "source": [
    " # 19) Write a program that handles both IndexError and KeyError using a try-except block.\n",
    "\n",
    "# 19)\n",
    "try:\n",
    "    my_list = [1, 2, 3]\n",
    "    print(my_list[5])\n",
    "    my_dict = {\"a\": 1}\n",
    "    print(my_dict[\"b\"])\n",
    "\n",
    "except IndexError:\n",
    "    print(\"IndexError: List index out of range.\")\n",
    "\n",
    "except KeyError:\n",
    "    print(\"KeyError: Key not found in dictionary.\")\n"
   ]
  },
  {
   "cell_type": "code",
   "execution_count": null,
   "id": "0973377b-2926-4231-b8ac-8d651a4dcba7",
   "metadata": {
    "id": "0973377b-2926-4231-b8ac-8d651a4dcba7",
    "outputId": "95ce2804-3eff-427a-f087-44daa872bcfb"
   },
   "outputs": [
    {
     "name": "stdout",
     "output_type": "stream",
     "text": [
      "Hello, this is a line of text.\n"
     ]
    }
   ],
   "source": [
    "  # 20)  How would you open a file and read its contents using a context manager in Python?\n",
    "\n",
    "#20)\n",
    "\n",
    "with open(\"example.txt\", \"r\") as file:\n",
    "    content = file.read()\n",
    "    print(content)\n"
   ]
  },
  {
   "cell_type": "code",
   "execution_count": null,
   "id": "I_3AfL3d4Lbu",
   "metadata": {
    "colab": {
     "base_uri": "https://localhost:8080/"
    },
    "id": "I_3AfL3d4Lbu",
    "outputId": "a00dc41c-7028-4aaf-d83d-3791383f6656"
   },
   "outputs": [
    {
     "name": "stdout",
     "output_type": "stream",
     "text": [
      "The file 'example.txt' does not exist.\n"
     ]
    }
   ],
   "source": [
    " # 21) Write a Python program that reads a file and prints the number of occurrences of a specific word.\n",
    "\n",
    "#21)\n",
    "\n",
    "\n",
    "# Define the file name and word to search\n",
    "filename = 'example.txt'\n",
    "target_word = 'data'\n",
    "\n",
    "# Initialize the counter\n",
    "count = 0\n",
    "\n",
    "try:\n",
    "    # Open the file in read mode\n",
    "    with open(filename, 'r') as file:\n",
    "        for line in file:\n",
    "            # Convert to lowercase and split into words\n",
    "            words = line.lower().split()\n",
    "            # Count how many times the target word appears in the line\n",
    "            count += words.count(target_word.lower())\n",
    "\n",
    "    print(f\"The word '{target_word}' occurred {count} times in '{filename}'.\")\n",
    "except FileNotFoundError:\n",
    "    print(f\"The file '{filename}' does not exist.\")\n"
   ]
  },
  {
   "cell_type": "code",
   "execution_count": null,
   "id": "a90bc152-5bdb-4e5d-a376-e910b43778d8",
   "metadata": {
    "colab": {
     "base_uri": "https://localhost:8080/"
    },
    "id": "a90bc152-5bdb-4e5d-a376-e910b43778d8",
    "outputId": "128ff7ec-3bd0-4ab2-e4a1-94cdb6048fd2"
   },
   "outputs": [
    {
     "name": "stdout",
     "output_type": "stream",
     "text": [
      "File is empty or does not exist.\n"
     ]
    }
   ],
   "source": [
    "# 22) How can you check if a file is empty before attempting to read its contents.\n",
    "\n",
    "import os\n",
    "\n",
    "filename = 'sample.txt'\n",
    "\n",
    "# Check if file exists and is not empty\n",
    "if os.path.isfile(filename) and os.path.getsize(filename) > 0:\n",
    "    with open(filename, 'r') as file:\n",
    "        contents = file.read()\n",
    "        print(\"File contents:\\n\", contents)\n",
    "else:\n",
    "    print(\"File is empty or does not exist.\")\n",
    "\n",
    "\n"
   ]
  },
  {
   "cell_type": "code",
   "execution_count": null,
   "id": "ad528632-bd58-4bec-bb34-dc7ab7d63859",
   "metadata": {
    "id": "ad528632-bd58-4bec-bb34-dc7ab7d63859",
    "outputId": "d740301b-0312-4dcb-e814-a9256097df6c"
   },
   "outputs": [
    {
     "name": "stderr",
     "output_type": "stream",
     "text": [
      "ERROR: An error occurred: [Errno 2] No such file or directory: 'data.txt'\n"
     ]
    },
    {
     "name": "stdout",
     "output_type": "stream",
     "text": [
      "An error occurred. Check error.log for details.\n"
     ]
    }
   ],
   "source": [
    "  #23)  Write a Python program that writes to a log file when an error occurs during file handling.\n",
    "\n",
    "# 23)\n",
    "import logging\n",
    "\n",
    "logging.basicConfig(filename=\"error.log\", level=logging.ERROR, format='%(asctime)s - %(levelname)s - %(message)s')\n",
    "\n",
    "try:\n",
    "    with open(\"data.txt\", \"r\") as file:\n",
    "        print(file.read())\n",
    "except Exception as e:\n",
    "    logging.error(f\"An error occurred: {e}\")\n",
    "    print(\"An error occurred. Check error.log for details.\")\n"
   ]
  },
  {
   "cell_type": "code",
   "execution_count": null,
   "id": "c71f35be-afa5-4c1e-a8cb-40f8be14909b",
   "metadata": {
    "id": "c71f35be-afa5-4c1e-a8cb-40f8be14909b"
   },
   "outputs": [],
   "source": []
  }
 ],
 "metadata": {
  "colab": {
   "provenance": []
  },
  "kernelspec": {
   "display_name": "Python 3 (ipykernel)",
   "language": "python",
   "name": "python3"
  },
  "language_info": {
   "codemirror_mode": {
    "name": "ipython",
    "version": 3
   },
   "file_extension": ".py",
   "mimetype": "text/x-python",
   "name": "python",
   "nbconvert_exporter": "python",
   "pygments_lexer": "ipython3",
   "version": "3.12.7"
  }
 },
 "nbformat": 4,
 "nbformat_minor": 5
}
